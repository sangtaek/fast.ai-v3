{
  "nbformat": 4,
  "nbformat_minor": 0,
  "metadata": {
    "colab": {
      "name": "pascal.ipynb",
      "version": "0.3.2",
      "provenance": [],
      "include_colab_link": true
    },
    "kernelspec": {
      "name": "python3",
      "display_name": "Python 3"
    },
    "accelerator": "GPU"
  },
  "cells": [
    {
      "cell_type": "markdown",
      "metadata": {
        "id": "view-in-github",
        "colab_type": "text"
      },
      "source": [
        "<a href=\"https://colab.research.google.com/github/sangtaek/fast.ai-v3/blob/master/pascal.ipynb\" target=\"_parent\"><img src=\"https://colab.research.google.com/assets/colab-badge.svg\" alt=\"Open In Colab\"/></a>"
      ]
    },
    {
      "cell_type": "code",
      "metadata": {
        "id": "a9CRRRjBGVV2",
        "colab_type": "code",
        "colab": {}
      },
      "source": [
        "from fastai.vision import *"
      ],
      "execution_count": 0,
      "outputs": []
    },
    {
      "cell_type": "markdown",
      "metadata": {
        "id": "30VJytD5GVV6",
        "colab_type": "text"
      },
      "source": [
        "## Data"
      ]
    },
    {
      "cell_type": "markdown",
      "metadata": {
        "id": "MQbUD6mRGVV7",
        "colab_type": "text"
      },
      "source": [
        "We are going to use the [Pascal dataset](http://host.robots.ox.ac.uk/pascal/VOC/) for object detection. There is a version from 2007 and a bigger version from 2012. We'll use the 2007 version here. "
      ]
    },
    {
      "cell_type": "code",
      "metadata": {
        "id": "YaKs3Z4VGVV8",
        "colab_type": "code",
        "colab": {}
      },
      "source": [
        "path = untar_data(URLs.PASCAL_2007)"
      ],
      "execution_count": 0,
      "outputs": []
    },
    {
      "cell_type": "markdown",
      "metadata": {
        "id": "m5LrMRtCGVV-",
        "colab_type": "text"
      },
      "source": [
        "The annotations for the images are stored in json files that give the bounding boxes for each class."
      ]
    },
    {
      "cell_type": "code",
      "metadata": {
        "id": "VA0Wf3whGVV_",
        "colab_type": "code",
        "colab": {}
      },
      "source": [
        "import json\n",
        "annots = json.load(open(path/'train.json'))"
      ],
      "execution_count": 0,
      "outputs": []
    },
    {
      "cell_type": "code",
      "metadata": {
        "id": "r2UFuvwNGVWB",
        "colab_type": "code",
        "colab": {}
      },
      "source": [
        "annots.keys()"
      ],
      "execution_count": 0,
      "outputs": []
    },
    {
      "cell_type": "code",
      "metadata": {
        "id": "EvQ90bh9GVWF",
        "colab_type": "code",
        "colab": {}
      },
      "source": [
        "annots['annotations'][0]"
      ],
      "execution_count": 0,
      "outputs": []
    },
    {
      "cell_type": "markdown",
      "metadata": {
        "id": "1Fv7mUugGVWI",
        "colab_type": "text"
      },
      "source": [
        "This first annotation is a bounding box on the image with id 12, and the corresponding object is the category with id 7. We can read the correspondance in the 'images' and the 'categories' keys."
      ]
    },
    {
      "cell_type": "code",
      "metadata": {
        "id": "sJwDWsWVGVWI",
        "colab_type": "code",
        "colab": {}
      },
      "source": [
        "annots['categories']"
      ],
      "execution_count": 0,
      "outputs": []
    },
    {
      "cell_type": "markdown",
      "metadata": {
        "id": "Qh81fqdXGVWL",
        "colab_type": "text"
      },
      "source": [
        "There is a convenience method in fastai to extract all the annotations and map them with the right images/categories directly, as long as they are in the format we just saw (called the COCO format). "
      ]
    },
    {
      "cell_type": "code",
      "metadata": {
        "id": "9X6Y9B2wGVWM",
        "colab_type": "code",
        "colab": {}
      },
      "source": [
        "train_images, train_lbl_bbox = get_annotations(path/'train.json')\n",
        "val_images, val_lbl_bbox = get_annotations(path/'valid.json')\n",
        "#tst_images, tst_lbl_bbox = get_annotations(path/'test.json')"
      ],
      "execution_count": 0,
      "outputs": []
    },
    {
      "cell_type": "markdown",
      "metadata": {
        "id": "JB42MqYlGVWO",
        "colab_type": "text"
      },
      "source": [
        "Here we will directly find the same image as before at the beginning of the training set, with the corresponding bounding box and category."
      ]
    },
    {
      "cell_type": "code",
      "metadata": {
        "id": "7Rp_i0WgGVWQ",
        "colab_type": "code",
        "colab": {}
      },
      "source": [
        "train_images[0], train_lbl_bbox[0]"
      ],
      "execution_count": 0,
      "outputs": []
    },
    {
      "cell_type": "markdown",
      "metadata": {
        "id": "mMRoynWXGVWV",
        "colab_type": "text"
      },
      "source": [
        "To see it, we open the image properly and we create an `ImageBBox` object from the list of bounding boxes. This will allow us to apply data augmentation to our bounding box. To create an `ImageBBox`, we need to give it the height and the width of the original picture, the list of bounding boxes, the list of category ids and the classes list (to map an id to a class).\n",
        "\n",
        "Here we don't have a class dictionary available (that will be done automatically behind the scenes with the data block API), so we just pass id 0 and `classes=['car']`."
      ]
    },
    {
      "cell_type": "code",
      "metadata": {
        "id": "XkopQf4FGVWW",
        "colab_type": "code",
        "colab": {}
      },
      "source": [
        "img = open_image(path/'train'/train_images[0])\n",
        "bbox = ImageBBox.create(*img.size, train_lbl_bbox[0][0], [0], classes=['car'])\n",
        "img.show(figsize=(6,4), y=bbox)"
      ],
      "execution_count": 0,
      "outputs": []
    },
    {
      "cell_type": "markdown",
      "metadata": {
        "id": "_RusGUzDGVWa",
        "colab_type": "text"
      },
      "source": [
        "This works with one or several bounding boxes:"
      ]
    },
    {
      "cell_type": "code",
      "metadata": {
        "id": "uM56ogcNGVWa",
        "colab_type": "code",
        "colab": {}
      },
      "source": [
        "train_images[1], train_lbl_bbox[1]"
      ],
      "execution_count": 0,
      "outputs": []
    },
    {
      "cell_type": "code",
      "metadata": {
        "id": "iXuS26VqGVWd",
        "colab_type": "code",
        "colab": {}
      },
      "source": [
        "img = open_image(path/'train'/train_images[1])\n",
        "bbox = ImageBBox.create(*img.size, train_lbl_bbox[1][0], [0, 1], classes=['person', 'horse'])\n",
        "img.show(figsize=(6,4), y=bbox)"
      ],
      "execution_count": 0,
      "outputs": []
    },
    {
      "cell_type": "markdown",
      "metadata": {
        "id": "v7VSGjq5GVWf",
        "colab_type": "text"
      },
      "source": [
        "And if we apply a transform to our image and the `ImageBBox` object, they stay aligned:"
      ]
    },
    {
      "cell_type": "code",
      "metadata": {
        "id": "vDyF3GlJGVWg",
        "colab_type": "code",
        "colab": {}
      },
      "source": [
        "img = img.rotate(-10)\n",
        "bbox = bbox.rotate(-10)\n",
        "img.show(figsize=(6,4), y=bbox)"
      ],
      "execution_count": 0,
      "outputs": []
    },
    {
      "cell_type": "markdown",
      "metadata": {
        "id": "bI3XiyDCGVWi",
        "colab_type": "text"
      },
      "source": [
        "We group all the image filenames and annotations together, to use the data block API to load the dataset in a `DataBunch`."
      ]
    },
    {
      "cell_type": "code",
      "metadata": {
        "id": "4lVnKvPKGVWj",
        "colab_type": "code",
        "colab": {}
      },
      "source": [
        "images, lbl_bbox = train_images+val_images,train_lbl_bbox+val_lbl_bbox\n",
        "img2bbox = dict(zip(images, lbl_bbox))\n",
        "get_y_func = lambda o:img2bbox[o.name]"
      ],
      "execution_count": 0,
      "outputs": []
    },
    {
      "cell_type": "code",
      "metadata": {
        "id": "MkZI33CcGVWm",
        "colab_type": "code",
        "colab": {}
      },
      "source": [
        "def get_data(bs, size):\n",
        "    src = ObjectItemList.from_folder(path/'train')\n",
        "    src = src.split_by_files(val_images)\n",
        "    src = src.label_from_func(get_y_func)\n",
        "    src = src.transform(get_transforms(), size=size, tfm_y=True)\n",
        "    return src.databunch(path=path, bs=bs, collate_fn=bb_pad_collate)"
      ],
      "execution_count": 0,
      "outputs": []
    },
    {
      "cell_type": "code",
      "metadata": {
        "id": "WBOZL_q7GVWp",
        "colab_type": "code",
        "colab": {}
      },
      "source": [
        "data = get_data(64,128)"
      ],
      "execution_count": 0,
      "outputs": []
    },
    {
      "cell_type": "code",
      "metadata": {
        "id": "uRjcxSJBGVWr",
        "colab_type": "code",
        "colab": {}
      },
      "source": [
        "data.show_batch(rows=3)"
      ],
      "execution_count": 0,
      "outputs": []
    },
    {
      "cell_type": "markdown",
      "metadata": {
        "id": "2v0qbEUrGVWt",
        "colab_type": "text"
      },
      "source": [
        "## Model"
      ]
    },
    {
      "cell_type": "markdown",
      "metadata": {
        "id": "6XOvbp3VGVWu",
        "colab_type": "text"
      },
      "source": [
        "The architecture we will use is a [RetinaNet](https://arxiv.org/abs/1708.02002), which is based on a [Feature Pyramid Network](https://arxiv.org/abs/1612.03144). \n",
        "\n",
        "![Retina net](https://github.com/sangtaek/course-v3/blob/master/nbs/dl2/images/retinanet.png?raw=1)\n",
        "\n",
        "This is a bit like a Unet in the sense we have a branch where the image is progressively reduced then another one where we upsample it again, and there are lateral connections, but we will use the feature maps produced at each level for our final predictions. Specifically, if we start with an image of size (256,256), the traditional resnet has intermediate features maps of sizes:\n",
        "- C1 (128, 128)  \n",
        "- C2 (64, 64)\n",
        "- C3 (32, 32)\n",
        "- C4 (16, 16)\n",
        "- C5 (8, 8)\n",
        "To which the authors add two other features maps C6 and C7 of sizes (4,4) and (2,2) by using stride-2 convolutions. (Note that the model requires an image size of 128 at the minimum because of this.)\n",
        "\n",
        "Then we have P7 = C7 and we go down from P7 to P2 by upsampling the result of the previous P-layer and adding a lateral connection. The idea is that the last feature map P7 will be responsible to detect big objects, while one like P3 will be responsible to detect smaller objects. \n",
        "\n",
        "Each P-something feature map then goes through two subnet of four convolutional layers (with the same weights for all the feature maps), one that will be responsible for finding the category of the object and the other for drawing the bounding box. Each location in the feature map is assigned a given number of anchors (see below) so the classifier ends up with `n_anchors * n_classes` channels and the bounding box regressor with `n_anchors * 4` channels."
      ]
    },
    {
      "cell_type": "code",
      "metadata": {
        "id": "wnBBvxuTGVWv",
        "colab_type": "code",
        "colab": {}
      },
      "source": [
        "#Grab the convenience functions that helps us buil the Unet\n",
        "from fastai.vision.models.unet import _get_sfs_idxs, model_sizes, hook_outputs"
      ],
      "execution_count": 0,
      "outputs": []
    },
    {
      "cell_type": "code",
      "metadata": {
        "id": "qsBaH92NGVWy",
        "colab_type": "code",
        "colab": {}
      },
      "source": [
        "class LateralUpsampleMerge(nn.Module):\n",
        "    \"Merge the features coming from the downsample path (in `hook`) with the upsample path.\"\n",
        "    def __init__(self, ch, ch_lat, hook):\n",
        "        super().__init__()\n",
        "        self.hook = hook\n",
        "        self.conv_lat = conv2d(ch_lat, ch, ks=1, bias=True)\n",
        "    \n",
        "    def forward(self, x):\n",
        "        return self.conv_lat(self.hook.stored) + F.interpolate(x, self.hook.stored.shape[-2:], mode='nearest')"
      ],
      "execution_count": 0,
      "outputs": []
    },
    {
      "cell_type": "code",
      "metadata": {
        "id": "2v46dCZxGVW3",
        "colab_type": "code",
        "colab": {}
      },
      "source": [
        "class RetinaNet(nn.Module):\n",
        "    \"Implements RetinaNet from https://arxiv.org/abs/1708.02002\"\n",
        "    def __init__(self, encoder:nn.Module, n_classes, final_bias=0., chs=256, n_anchors=9, flatten=True):\n",
        "        super().__init__()\n",
        "        self.n_classes,self.flatten = n_classes,flatten\n",
        "        imsize = (256,256)\n",
        "        sfs_szs = model_sizes(encoder, size=imsize)\n",
        "        sfs_idxs = list(reversed(_get_sfs_idxs(sfs_szs)))\n",
        "        self.sfs = hook_outputs([encoder[i] for i in sfs_idxs])\n",
        "        self.encoder = encoder\n",
        "        self.c5top5 = conv2d(sfs_szs[-1][1], chs, ks=1, bias=True)\n",
        "        self.c5top6 = conv2d(sfs_szs[-1][1], chs, stride=2, bias=True)\n",
        "        self.p6top7 = nn.Sequential(nn.ReLU(), conv2d(chs, chs, stride=2, bias=True))\n",
        "        self.merges = nn.ModuleList([LateralUpsampleMerge(chs, sfs_szs[idx][1], hook) \n",
        "                                     for idx,hook in zip(sfs_idxs[-2:-4:-1], self.sfs[-2:-4:-1])])\n",
        "        self.smoothers = nn.ModuleList([conv2d(chs, chs, 3, bias=True) for _ in range(3)])\n",
        "        self.classifier = self._head_subnet(n_classes, n_anchors, final_bias, chs=chs)\n",
        "        self.box_regressor = self._head_subnet(4, n_anchors, 0., chs=chs)\n",
        "        \n",
        "    def _head_subnet(self, n_classes, n_anchors, final_bias=0., n_conv=4, chs=256):\n",
        "        \"Helper function to create one of the subnet for regression/classification.\"\n",
        "        layers = [conv_layer(chs, chs, bias=True, norm_type=None) for _ in range(n_conv)]\n",
        "        layers += [conv2d(chs, n_classes * n_anchors, bias=True)]\n",
        "        layers[-1].bias.data.zero_().add_(final_bias)\n",
        "        layers[-1].weight.data.fill_(0)\n",
        "        return nn.Sequential(*layers)\n",
        "    \n",
        "    def _apply_transpose(self, func, p_states, n_classes):\n",
        "        #Final result of the classifier/regressor is bs * (k * n_anchors) * h * w\n",
        "        #We make it bs * h * w * n_anchors * k then flatten in bs * -1 * k so we can contenate\n",
        "        #all the results in bs * anchors * k (the non flatten version is there for debugging only)\n",
        "        if not self.flatten: \n",
        "            sizes = [[p.size(0), p.size(2), p.size(3)] for p in p_states]\n",
        "            return [func(p).permute(0,2,3,1).view(*sz,-1,n_classes) for p,sz in zip(p_states,sizes)]\n",
        "        else:\n",
        "            return torch.cat([func(p).permute(0,2,3,1).contiguous().view(p.size(0),-1,n_classes) for p in p_states],1)\n",
        "    \n",
        "    def forward(self, x):\n",
        "        c5 = self.encoder(x)\n",
        "        p_states = [self.c5top5(c5.clone()), self.c5top6(c5)]\n",
        "        p_states.append(self.p6top7(p_states[-1]))\n",
        "        for merge in self.merges: p_states = [merge(p_states[0])] + p_states\n",
        "        for i, smooth in enumerate(self.smoothers[:3]):\n",
        "            p_states[i] = smooth(p_states[i])\n",
        "        return [self._apply_transpose(self.classifier, p_states, self.n_classes), \n",
        "                self._apply_transpose(self.box_regressor, p_states, 4),\n",
        "                [[p.size(2), p.size(3)] for p in p_states]]\n",
        "    \n",
        "    def __del__(self):\n",
        "        if hasattr(self, \"sfs\"): self.sfs.remove()"
      ],
      "execution_count": 0,
      "outputs": []
    },
    {
      "cell_type": "markdown",
      "metadata": {
        "id": "KxO6Fsa2GVW5",
        "colab_type": "text"
      },
      "source": [
        "The model is a bit complex, but that's not the hardest part. It will spit out an absurdly high number of predictions: for the features P3 to P7 with an image size of 256, we have `32*32 + 16*16 + 8*8 + 4*4 +2*2` locations possible in one of the five feature maps, which gives 1,364 possible detections, multiplied by the number of anchors we choose to attribute to each location (9 below), which makes 12,276 possible hits.\n",
        "\n",
        "A lot of those aren't going to correspond to any object in the picture, and we need to somehow match all those predictions to either nothing or a given bounding box in the picture."
      ]
    },
    {
      "cell_type": "markdown",
      "metadata": {
        "id": "-NI7SMs0GVW6",
        "colab_type": "text"
      },
      "source": [
        "## \"Encore\" boxes"
      ]
    },
    {
      "cell_type": "markdown",
      "metadata": {
        "id": "yCEp3_gVGVW6",
        "colab_type": "text"
      },
      "source": [
        "If we look at the feature map of size `4*4`, we have 16 locations numbered like below: "
      ]
    },
    {
      "cell_type": "code",
      "metadata": {
        "id": "gF7egpuiGVW7",
        "colab_type": "code",
        "colab": {}
      },
      "source": [
        "torch.arange(0,16).long().view(4,4)"
      ],
      "execution_count": 0,
      "outputs": []
    },
    {
      "cell_type": "markdown",
      "metadata": {
        "id": "nrBePYRbGVW-",
        "colab_type": "text"
      },
      "source": [
        "The most basic way to map one of these features with an actual area inside the image is to create the regular 4 by 4 grid. Our convention is that `y` is first (like in numpy or PyTorch), and that all coordinates are scaled from -1 to 1 (-1 being top/right, 1 being bottom/left). "
      ]
    },
    {
      "cell_type": "code",
      "metadata": {
        "id": "7lbNTicMGVW_",
        "colab_type": "code",
        "colab": {}
      },
      "source": [
        "def create_grid(size):\n",
        "    \"Create a grid of a given `size`.\"\n",
        "    H, W = size if is_tuple(size) else (size,size)\n",
        "    grid = FloatTensor(H, W, 2)\n",
        "    linear_points = torch.linspace(-1+1/W, 1-1/W, W) if W > 1 else tensor([0.])\n",
        "    grid[:, :, 1] = torch.ger(torch.ones(H), linear_points).expand_as(grid[:, :, 0])\n",
        "    linear_points = torch.linspace(-1+1/H, 1-1/H, H) if H > 1 else tensor([0.])\n",
        "    grid[:, :, 0] = torch.ger(linear_points, torch.ones(W)).expand_as(grid[:, :, 1])\n",
        "    return grid.view(-1,2)"
      ],
      "execution_count": 0,
      "outputs": []
    },
    {
      "cell_type": "markdown",
      "metadata": {
        "id": "6LGVVqwXGVXB",
        "colab_type": "text"
      },
      "source": [
        "Let's use a helper function to draw those anchors:"
      ]
    },
    {
      "cell_type": "code",
      "metadata": {
        "id": "uV9MQipeGVXC",
        "colab_type": "code",
        "colab": {}
      },
      "source": [
        "def show_anchors(ancs, size):\n",
        "    _,ax = plt.subplots(1,1, figsize=(5,5))\n",
        "    ax.set_xticks(np.linspace(-1,1, size[1]+1))\n",
        "    ax.set_yticks(np.linspace(-1,1, size[0]+1))\n",
        "    ax.grid()\n",
        "    ax.scatter(ancs[:,1], ancs[:,0]) #y is first\n",
        "    ax.set_yticklabels([])\n",
        "    ax.set_xticklabels([])\n",
        "    ax.set_xlim(-1,1)\n",
        "    ax.set_ylim(1,-1) #-1 is top, 1 is bottom\n",
        "    for i, (x, y) in enumerate(zip(ancs[:, 1], ancs[:, 0])): ax.annotate(i, xy = (x,y))"
      ],
      "execution_count": 0,
      "outputs": []
    },
    {
      "cell_type": "code",
      "metadata": {
        "id": "0fDsd9r5GVXE",
        "colab_type": "code",
        "colab": {}
      },
      "source": [
        "size = (4,4)\n",
        "show_anchors(create_grid(size), size)"
      ],
      "execution_count": 0,
      "outputs": []
    },
    {
      "cell_type": "markdown",
      "metadata": {
        "id": "v7s_3Jh6GVXI",
        "colab_type": "text"
      },
      "source": [
        "In practice, we use different ratios and scales of that basic grid to build our anchors, because bounding boxes aren't always a perfect square inside a grid. "
      ]
    },
    {
      "cell_type": "code",
      "metadata": {
        "id": "KhupBhJxGVXJ",
        "colab_type": "code",
        "colab": {}
      },
      "source": [
        "def create_anchors(sizes, ratios, scales, flatten=True):\n",
        "    \"Create anchor of `sizes`, `ratios` and `scales`.\"\n",
        "    aspects = [[[s*math.sqrt(r), s*math.sqrt(1/r)] for s in scales] for r in ratios]\n",
        "    aspects = torch.tensor(aspects).view(-1,2)\n",
        "    anchors = []\n",
        "    for h,w in sizes:\n",
        "        #4 here to have the anchors overlap.\n",
        "        sized_aspects = 4 * (aspects * torch.tensor([2/h,2/w])).unsqueeze(0)\n",
        "        base_grid = create_grid((h,w)).unsqueeze(1)\n",
        "        n,a = base_grid.size(0),aspects.size(0)\n",
        "        ancs = torch.cat([base_grid.expand(n,a,2), sized_aspects.expand(n,a,2)], 2)\n",
        "        anchors.append(ancs.view(h,w,a,4))\n",
        "    return torch.cat([anc.view(-1,4) for anc in anchors],0) if flatten else anchors"
      ],
      "execution_count": 0,
      "outputs": []
    },
    {
      "cell_type": "code",
      "metadata": {
        "id": "McyQwXjZGVXL",
        "colab_type": "code",
        "colab": {}
      },
      "source": [
        "ratios = [1/2,1,2]\n",
        "scales = [1,2**(-1/3), 2**(-2/3)] \n",
        "#Paper used [1,2**(1/3), 2**(2/3)] but a bigger size (600) too, so the largest feature map gave anchors that cover less of the image.\n",
        "sizes = [(2**i,2**i) for i in range(5)]\n",
        "sizes.reverse() #Predictions come in the order of the smallest feature map to the biggest\n",
        "anchors = create_anchors(sizes, ratios, scales)"
      ],
      "execution_count": 0,
      "outputs": []
    },
    {
      "cell_type": "code",
      "metadata": {
        "id": "HbWaa0SDGVXO",
        "colab_type": "code",
        "colab": {}
      },
      "source": [
        "anchors.size()"
      ],
      "execution_count": 0,
      "outputs": []
    },
    {
      "cell_type": "markdown",
      "metadata": {
        "id": "sOjzt06uGVXR",
        "colab_type": "text"
      },
      "source": [
        "That's a bit less than in our computation earlier, but this is because it's for the case of (128,128) images (sizes go from (1,1) to (32,32) instead of (2,2) to (64,64))."
      ]
    },
    {
      "cell_type": "code",
      "metadata": {
        "id": "fuGhPwgAGVXT",
        "colab_type": "code",
        "colab": {}
      },
      "source": [
        "import matplotlib.cm as cmx\n",
        "import matplotlib.colors as mcolors\n",
        "from cycler import cycler\n",
        "\n",
        "def get_cmap(N):\n",
        "    color_norm  = mcolors.Normalize(vmin=0, vmax=N-1)\n",
        "    return cmx.ScalarMappable(norm=color_norm, cmap='Set3').to_rgba\n",
        "\n",
        "num_color = 12\n",
        "cmap = get_cmap(num_color)\n",
        "color_list = [cmap(float(x)) for x in range(num_color)]\n",
        "\n",
        "def draw_outline(o, lw):\n",
        "    o.set_path_effects([patheffects.Stroke(\n",
        "        linewidth=lw, foreground='black'), patheffects.Normal()])\n",
        "\n",
        "def draw_rect(ax, b, color='white'):\n",
        "    patch = ax.add_patch(patches.Rectangle(b[:2], *b[-2:], fill=False, edgecolor=color, lw=2))\n",
        "    draw_outline(patch, 4)\n",
        "\n",
        "def draw_text(ax, xy, txt, sz=14, color='white'):\n",
        "    text = ax.text(*xy, txt,\n",
        "        verticalalignment='top', color=color, fontsize=sz, weight='bold')\n",
        "    draw_outline(text, 1)"
      ],
      "execution_count": 0,
      "outputs": []
    },
    {
      "cell_type": "code",
      "metadata": {
        "id": "lALn002SGVXW",
        "colab_type": "code",
        "colab": {}
      },
      "source": [
        "def show_boxes(boxes):\n",
        "    \"Show the `boxes` (size by 4)\"\n",
        "    _, ax = plt.subplots(1,1, figsize=(5,5))\n",
        "    ax.set_xlim(-1,1)\n",
        "    ax.set_ylim(1,-1)\n",
        "    for i, bbox in enumerate(boxes):\n",
        "        bb = bbox.numpy()\n",
        "        rect = [bb[1]-bb[3]/2, bb[0]-bb[2]/2, bb[3], bb[2]]\n",
        "        draw_rect(ax, rect, color=color_list[i%num_color])\n",
        "        draw_text(ax, [bb[1]-bb[3]/2,bb[0]-bb[2]/2], str(i), color=color_list[i%num_color])"
      ],
      "execution_count": 0,
      "outputs": []
    },
    {
      "cell_type": "markdown",
      "metadata": {
        "id": "MfsExO0oGVXY",
        "colab_type": "text"
      },
      "source": [
        "Here is an example of the 9 anchor boxes with different scales/ratios on one region of the image. Now imagine we have this at every location of each of the feature maps."
      ]
    },
    {
      "cell_type": "code",
      "metadata": {
        "id": "V1SdC38HGVXZ",
        "colab_type": "code",
        "colab": {}
      },
      "source": [
        "show_boxes(anchors[900:909])"
      ],
      "execution_count": 0,
      "outputs": []
    },
    {
      "cell_type": "markdown",
      "metadata": {
        "id": "XLPVXFUoGVXa",
        "colab_type": "text"
      },
      "source": [
        "For each anchor, we have one class predicted by the classifier and 4 floats `p_y,p_x,p_h,p_w` predicted by the regressor. If the corresponding anchor as a center in `anc_y`, `anc_x` with dimensions `anc_h`, `anc_w`, the predicted bounding box has those characteristics:\n",
        "```\n",
        "center = [p_y * anc_h + anc_y, p_x * anc_w + anc_x]\n",
        "height = anc_h * exp(p_h)\n",
        "width  = anc_w * exp(p_w)\n",
        "```\n",
        "The idea is that a prediction of `(0,0,0,0)` corresponds to the anchor itself.\n",
        "\n",
        "The next function converts the activations of the model in bounding boxes."
      ]
    },
    {
      "cell_type": "code",
      "metadata": {
        "id": "zENbHr88GVXb",
        "colab_type": "code",
        "colab": {}
      },
      "source": [
        "def activ_to_bbox(acts, anchors, flatten=True):\n",
        "    \"Extrapolate bounding boxes on anchors from the model activations.\"\n",
        "    if flatten:\n",
        "        acts.mul_(acts.new_tensor([[0.1, 0.1, 0.2, 0.2]])) #Can't remember where those scales come from, but they help regularize\n",
        "        centers = anchors[...,2:] * acts[...,:2] + anchors[...,:2]\n",
        "        sizes = anchors[...,2:] * torch.exp(acts[...,:2])\n",
        "        return torch.cat([centers, sizes], -1)\n",
        "    else: return [activ_to_bbox(act,anc) for act,anc in zip(acts, anchors)]\n",
        "    return res"
      ],
      "execution_count": 0,
      "outputs": []
    },
    {
      "cell_type": "markdown",
      "metadata": {
        "id": "AIWcj7a4GVXd",
        "colab_type": "text"
      },
      "source": [
        "Here is an example with the 3 by 4 regular grid and random predictions."
      ]
    },
    {
      "cell_type": "code",
      "metadata": {
        "id": "t4uYtokPGVXe",
        "colab_type": "code",
        "colab": {}
      },
      "source": [
        "size=(3,4)\n",
        "anchors = create_grid(size)\n",
        "anchors = torch.cat([anchors, torch.tensor([2/size[0],2/size[1]]).expand_as(anchors)], 1)\n",
        "activations = torch.randn(size[0]*size[1], 4) * 0.1\n",
        "bboxes = activ_to_bbox(activations, anchors)"
      ],
      "execution_count": 0,
      "outputs": []
    },
    {
      "cell_type": "code",
      "metadata": {
        "id": "b_95nkqBGVXf",
        "colab_type": "code",
        "colab": {}
      },
      "source": [
        "show_boxes(bboxes)"
      ],
      "execution_count": 0,
      "outputs": []
    },
    {
      "cell_type": "markdown",
      "metadata": {
        "id": "Q5swTCRYGVXi",
        "colab_type": "text"
      },
      "source": [
        "This helper function changes boxes in the format center/height/width to top/left/bottom/right."
      ]
    },
    {
      "cell_type": "code",
      "metadata": {
        "id": "h22FLH_TGVXj",
        "colab_type": "code",
        "colab": {}
      },
      "source": [
        "def cthw2tlbr(boxes):\n",
        "    \"Convert center/size format `boxes` to top/left bottom/right corners.\"\n",
        "    top_left = boxes[:,:2] - boxes[:,2:]/2\n",
        "    bot_right = boxes[:,:2] + boxes[:,2:]/2\n",
        "    return torch.cat([top_left, bot_right], 1)"
      ],
      "execution_count": 0,
      "outputs": []
    },
    {
      "cell_type": "markdown",
      "metadata": {
        "id": "OoPm2XaUGVXl",
        "colab_type": "text"
      },
      "source": [
        "Now to decide which predicted bounding box will match a given ground truth object, we will compute the intersection over unions ratios between all the anchors and all the targets, then we will keep the ones that have an overlap greater than a given threshold (0.5)."
      ]
    },
    {
      "cell_type": "code",
      "metadata": {
        "id": "rDxEdlfTGVXm",
        "colab_type": "code",
        "colab": {}
      },
      "source": [
        "def intersection(anchors, targets):\n",
        "    \"Compute the sizes of the intersections of `anchors` by `targets`.\"\n",
        "    ancs, tgts = cthw2tlbr(anchors), cthw2tlbr(targets)\n",
        "    a, t = ancs.size(0), tgts.size(0)\n",
        "    ancs, tgts = ancs.unsqueeze(1).expand(a,t,4), tgts.unsqueeze(0).expand(a,t,4)\n",
        "    top_left_i = torch.max(ancs[...,:2], tgts[...,:2])\n",
        "    bot_right_i = torch.min(ancs[...,2:], tgts[...,2:])\n",
        "    sizes = torch.clamp(bot_right_i - top_left_i, min=0) \n",
        "    return sizes[...,0] * sizes[...,1]"
      ],
      "execution_count": 0,
      "outputs": []
    },
    {
      "cell_type": "markdown",
      "metadata": {
        "id": "0q-KxIYHGVXp",
        "colab_type": "text"
      },
      "source": [
        "Let's see some results, if we have our 12 anchors from before..."
      ]
    },
    {
      "cell_type": "code",
      "metadata": {
        "id": "vGQkPSe8GVXq",
        "colab_type": "code",
        "colab": {}
      },
      "source": [
        "show_boxes(anchors)"
      ],
      "execution_count": 0,
      "outputs": []
    },
    {
      "cell_type": "markdown",
      "metadata": {
        "id": "X069dXGuGVXt",
        "colab_type": "text"
      },
      "source": [
        "... and those targets (0. is the whole image)"
      ]
    },
    {
      "cell_type": "code",
      "metadata": {
        "id": "jx6nymeZGVXu",
        "colab_type": "code",
        "colab": {}
      },
      "source": [
        "targets = torch.tensor([[0.,0.,2.,2.], [-0.5,-0.5,1.,1.], [1/3,0.5,0.5,0.5]])\n",
        "show_boxes(targets)"
      ],
      "execution_count": 0,
      "outputs": []
    },
    {
      "cell_type": "markdown",
      "metadata": {
        "id": "BMkFKW41GVX0",
        "colab_type": "text"
      },
      "source": [
        "Then the intersections of each bboxes by each targets are:"
      ]
    },
    {
      "cell_type": "code",
      "metadata": {
        "id": "QqmT3vtkGVX1",
        "colab_type": "code",
        "colab": {}
      },
      "source": [
        "intersection(anchors, targets)"
      ],
      "execution_count": 0,
      "outputs": []
    },
    {
      "cell_type": "code",
      "metadata": {
        "id": "GI9am0RkGVX7",
        "colab_type": "code",
        "colab": {}
      },
      "source": [
        "def IoU_values(anchors, targets):\n",
        "    \"Compute the IoU values of `anchors` by `targets`.\"\n",
        "    inter = intersection(anchors, targets)\n",
        "    anc_sz, tgt_sz = anchors[:,2] * anchors[:,3], targets[:,2] * targets[:,3]\n",
        "    union = anc_sz.unsqueeze(1) + tgt_sz.unsqueeze(0) - inter\n",
        "    return inter/(union+1e-8)"
      ],
      "execution_count": 0,
      "outputs": []
    },
    {
      "cell_type": "markdown",
      "metadata": {
        "id": "c36q_7N8GVX9",
        "colab_type": "text"
      },
      "source": [
        "And then the IoU values are."
      ]
    },
    {
      "cell_type": "code",
      "metadata": {
        "id": "YHljKqNxGVX-",
        "colab_type": "code",
        "colab": {}
      },
      "source": [
        "IoU_values(anchors, targets)"
      ],
      "execution_count": 0,
      "outputs": []
    },
    {
      "cell_type": "markdown",
      "metadata": {
        "id": "eejFunmIGVYC",
        "colab_type": "text"
      },
      "source": [
        "Then we match a anchor to targets with the following rules:\n",
        "- for each anchor we take the maximum overlap possible with any of the targets.\n",
        "- if that maximum overlap is less than 0.4, we match the anchor box to background, the classifier's target will be that class\n",
        "- if the maximum overlap is greater than 0.5, we match the anchor box to that ground truth object. The classifier's target will be the category of that target\n",
        "- if the maximum overlap is between 0.4 and 0.5, we ignore that anchor in our loss computation\n",
        "- optionally, we force-match for each ground truth object the anchor that has the maximum overlap with it (not sure it helps)"
      ]
    },
    {
      "cell_type": "code",
      "metadata": {
        "id": "OXSksGwiGVYD",
        "colab_type": "code",
        "colab": {}
      },
      "source": [
        "def match_anchors(anchors, targets, match_thr=0.5, bkg_thr=0.4):\n",
        "    \"Match `anchors` to targets. -1 is match to background, -2 is ignore.\"\n",
        "    matches = anchors.new(anchors.size(0)).zero_().long() - 2\n",
        "    if targets.numel() == 0: return matches\n",
        "    ious = IoU_values(anchors, targets)\n",
        "    vals,idxs = torch.max(ious,1)\n",
        "    matches[vals < bkg_thr] = -1\n",
        "    matches[vals > match_thr] = idxs[vals > match_thr]\n",
        "    #Overwrite matches with each target getting the anchor that has the max IoU.\n",
        "    #vals,idxs = torch.max(ious,0)\n",
        "    #If idxs contains repetition, this doesn't bug and only the last is considered.\n",
        "    #matches[idxs] = targets.new_tensor(list(range(targets.size(0)))).long()\n",
        "    return matches"
      ],
      "execution_count": 0,
      "outputs": []
    },
    {
      "cell_type": "markdown",
      "metadata": {
        "id": "3dABxUKuGVYI",
        "colab_type": "text"
      },
      "source": [
        "In our previous example, no one had an overlap > 0.5, so unless we use the special rule commented out, there are no matches."
      ]
    },
    {
      "cell_type": "code",
      "metadata": {
        "id": "BRXg3UQ4GVYJ",
        "colab_type": "code",
        "colab": {}
      },
      "source": [
        "match_anchors(anchors, targets)"
      ],
      "execution_count": 0,
      "outputs": []
    },
    {
      "cell_type": "markdown",
      "metadata": {
        "id": "kSlIUZg5GVYM",
        "colab_type": "text"
      },
      "source": [
        "With anchors very close to the targets."
      ]
    },
    {
      "cell_type": "code",
      "metadata": {
        "id": "BwNnaxOVGVYM",
        "colab_type": "code",
        "colab": {}
      },
      "source": [
        "size=(3,4)\n",
        "anchors = create_grid(size)\n",
        "anchors = torch.cat([anchors, torch.tensor([2/size[0],2/size[1]]).expand_as(anchors)], 1)\n",
        "activations = 0.1 * torch.randn(size[0]*size[1], 4)\n",
        "bboxes = activ_to_bbox(activations, anchors)\n",
        "match_anchors(anchors,bboxes)"
      ],
      "execution_count": 0,
      "outputs": []
    },
    {
      "cell_type": "markdown",
      "metadata": {
        "id": "yk6BYLU6GVYO",
        "colab_type": "text"
      },
      "source": [
        "With anchors in the grey area."
      ]
    },
    {
      "cell_type": "code",
      "metadata": {
        "id": "GX6Wf8O3GVYO",
        "colab_type": "code",
        "colab": {}
      },
      "source": [
        "anchors = create_grid((2,2))\n",
        "anchors = torch.cat([anchors, torch.tensor([1.,1.]).expand_as(anchors)], 1)\n",
        "targets = anchors.clone()\n",
        "anchors = torch.cat([anchors, torch.tensor([[-0.5,0.,1.,1.8]])], 0)\n",
        "match_anchors(anchors,targets)"
      ],
      "execution_count": 0,
      "outputs": []
    },
    {
      "cell_type": "markdown",
      "metadata": {
        "id": "CTCjbeUnGVYQ",
        "colab_type": "text"
      },
      "source": [
        "Does the opposite of `cthw2tbr`."
      ]
    },
    {
      "cell_type": "code",
      "metadata": {
        "id": "V8clzIzMGVYR",
        "colab_type": "code",
        "colab": {}
      },
      "source": [
        "def tlbr2cthw(boxes):\n",
        "    \"Convert top/left bottom/right format `boxes` to center/size corners.\"\n",
        "    center = (boxes[:,:2] + boxes[:,2:])/2\n",
        "    sizes = boxes[:,2:] - boxes[:,:2]\n",
        "    return torch.cat([center, sizes], 1)"
      ],
      "execution_count": 0,
      "outputs": []
    },
    {
      "cell_type": "markdown",
      "metadata": {
        "id": "5zbmxi9cGVYT",
        "colab_type": "text"
      },
      "source": [
        "Does the opposite of `activ_to_bbox`."
      ]
    },
    {
      "cell_type": "code",
      "metadata": {
        "id": "6k7YRGd_GVYT",
        "colab_type": "code",
        "colab": {}
      },
      "source": [
        "def bbox_to_activ(bboxes, anchors, flatten=True):\n",
        "    \"Return the target of the model on `anchors` for the `bboxes`.\"\n",
        "    if flatten:\n",
        "        t_centers = (bboxes[...,:2] - anchors[...,:2]) / anchors[...,2:] \n",
        "        t_sizes = torch.log(bboxes[...,2:] / anchors[...,2:] + 1e-8) \n",
        "        return torch.cat([t_centers, t_sizes], -1).div_(bboxes.new_tensor([[0.1, 0.1, 0.2, 0.2]]))\n",
        "    else: return [activ_to_bbox(act,anc) for act,anc in zip(acts, anchors)]\n",
        "    return res"
      ],
      "execution_count": 0,
      "outputs": []
    },
    {
      "cell_type": "markdown",
      "metadata": {
        "id": "7_ER2P_sGVYV",
        "colab_type": "text"
      },
      "source": [
        "We will one-hot encode our targets with the convention that the class of index 0 is the background, which is the absence of any other classes. That is coded by a row of zeros."
      ]
    },
    {
      "cell_type": "code",
      "metadata": {
        "id": "pBt-xXCNGVYW",
        "colab_type": "code",
        "colab": {}
      },
      "source": [
        "def encode_class(idxs, n_classes):\n",
        "    target = idxs.new_zeros(len(idxs), n_classes).float()\n",
        "    mask = idxs != 0\n",
        "    i1s = LongTensor(list(range(len(idxs))))\n",
        "    target[i1s[mask],idxs[mask]-1] = 1\n",
        "    return target"
      ],
      "execution_count": 0,
      "outputs": []
    },
    {
      "cell_type": "code",
      "metadata": {
        "id": "ZJH-rp02GVYY",
        "colab_type": "code",
        "colab": {}
      },
      "source": [
        "encode_class(LongTensor([1,2,0,1,3]),3)"
      ],
      "execution_count": 0,
      "outputs": []
    },
    {
      "cell_type": "markdown",
      "metadata": {
        "id": "IfGTOi-AGVYd",
        "colab_type": "text"
      },
      "source": [
        "And now we are ready to build the loss function. It has two parts, one for the classifier and one for the regressor. For the regression, we will use the L1 (potentially smoothed) loss between the predicted activations for an anchor that matches a given object (we ignore the no match or matches to background) and the corresponding bounding box (after going through `bbox2activ`).\n",
        "\n",
        "For the classification, we use the focal loss, which is a variant of the binary cross entropy used when we have a lot imbalance between the classes to predict (here we will very often have to predict 'background')."
      ]
    },
    {
      "cell_type": "code",
      "metadata": {
        "id": "RspahGyGGVYe",
        "colab_type": "code",
        "colab": {}
      },
      "source": [
        "class RetinaNetFocalLoss(nn.Module):\n",
        "    \n",
        "    def __init__(self, gamma:float=2., alpha:float=0.25,  pad_idx:int=0, scales:Collection[float]=None, \n",
        "                 ratios:Collection[float]=None, reg_loss:LossFunction=F.smooth_l1_loss):\n",
        "        super().__init__()\n",
        "        self.gamma,self.alpha,self.pad_idx,self.reg_loss = gamma,alpha,pad_idx,reg_loss\n",
        "        self.scales = ifnone(scales, [1,2**(-1/3), 2**(-2/3)])\n",
        "        self.ratios = ifnone(ratios, [1/2,1,2])\n",
        "        \n",
        "    def _change_anchors(self, sizes:Sizes) -> bool:\n",
        "        if not hasattr(self, 'sizes'): return True\n",
        "        for sz1, sz2 in zip(self.sizes, sizes):\n",
        "            if sz1[0] != sz2[0] or sz1[1] != sz2[1]: return True\n",
        "        return False\n",
        "    \n",
        "    def _create_anchors(self, sizes:Sizes, device:torch.device):\n",
        "        self.sizes = sizes\n",
        "        self.anchors = create_anchors(sizes, self.ratios, self.scales).to(device)\n",
        "    \n",
        "    def _unpad(self, bbox_tgt, clas_tgt):\n",
        "        i = torch.min(torch.nonzero(clas_tgt-self.pad_idx))\n",
        "        return tlbr2cthw(bbox_tgt[i:]), clas_tgt[i:]-1+self.pad_idx\n",
        "    \n",
        "    def _focal_loss(self, clas_pred, clas_tgt):\n",
        "        encoded_tgt = encode_class(clas_tgt, clas_pred.size(1))\n",
        "        ps = torch.sigmoid(clas_pred.detach())\n",
        "        weights = encoded_tgt * (1-ps) + (1-encoded_tgt) * ps\n",
        "        alphas = (1-encoded_tgt) * self.alpha + encoded_tgt * (1-self.alpha)\n",
        "        weights.pow_(self.gamma).mul_(alphas)\n",
        "        clas_loss = F.binary_cross_entropy_with_logits(clas_pred, encoded_tgt, weights, reduction='sum')\n",
        "        return clas_loss\n",
        "        \n",
        "    def _one_loss(self, clas_pred, bbox_pred, clas_tgt, bbox_tgt):\n",
        "        bbox_tgt, clas_tgt = self._unpad(bbox_tgt, clas_tgt)\n",
        "        matches = match_anchors(self.anchors, bbox_tgt)\n",
        "        bbox_mask = matches>=0\n",
        "        if bbox_mask.sum() != 0:\n",
        "            bbox_pred = bbox_pred[bbox_mask]\n",
        "            bbox_tgt = bbox_tgt[matches[bbox_mask]]\n",
        "            bb_loss = self.reg_loss(bbox_pred, bbox_to_activ(bbox_tgt, self.anchors[bbox_mask]))\n",
        "        else: bb_loss = 0.\n",
        "        matches.add_(1)\n",
        "        clas_tgt = clas_tgt + 1\n",
        "        clas_mask = matches>=0\n",
        "        clas_pred = clas_pred[clas_mask]\n",
        "        clas_tgt = torch.cat([clas_tgt.new_zeros(1).long(), clas_tgt])\n",
        "        clas_tgt = clas_tgt[matches[clas_mask]]\n",
        "        return bb_loss + self._focal_loss(clas_pred, clas_tgt)/torch.clamp(bbox_mask.sum(), min=1.)\n",
        "    \n",
        "    def forward(self, output, bbox_tgts, clas_tgts):\n",
        "        clas_preds, bbox_preds, sizes = output\n",
        "        if self._change_anchors(sizes): self._create_anchors(sizes, clas_preds.device)\n",
        "        n_classes = clas_preds.size(2)\n",
        "        return sum([self._one_loss(cp, bp, ct, bt)\n",
        "                    for (cp, bp, ct, bt) in zip(clas_preds, bbox_preds, clas_tgts, bbox_tgts)])/clas_tgts.size(0)"
      ],
      "execution_count": 0,
      "outputs": []
    },
    {
      "cell_type": "markdown",
      "metadata": {
        "id": "y8pm67QyGVYf",
        "colab_type": "text"
      },
      "source": [
        "This is a variant of the L1 loss used in several implementations:"
      ]
    },
    {
      "cell_type": "code",
      "metadata": {
        "id": "zRwhCip0GVYg",
        "colab_type": "code",
        "colab": {}
      },
      "source": [
        "class SigmaL1SmoothLoss(nn.Module):\n",
        "\n",
        "    def forward(self, output, target):\n",
        "        reg_diff = torch.abs(target - output)\n",
        "        reg_loss = torch.where(torch.le(reg_diff, 1/9), 4.5 * torch.pow(reg_diff, 2), reg_diff - 1/18)\n",
        "        return reg_loss.mean()"
      ],
      "execution_count": 0,
      "outputs": []
    },
    {
      "cell_type": "markdown",
      "metadata": {
        "id": "ViGG9uSFGVYi",
        "colab_type": "text"
      },
      "source": [
        "## Defining the Learner"
      ]
    },
    {
      "cell_type": "code",
      "metadata": {
        "id": "Jx9Ccew9GVYi",
        "colab_type": "code",
        "colab": {}
      },
      "source": [
        "ratios = [1/2,1,2]\n",
        "scales = [1,2**(-1/3), 2**(-2/3)]\n",
        "#scales = [1,2**(1/3), 2**(2/3)] for bigger size"
      ],
      "execution_count": 0,
      "outputs": []
    },
    {
      "cell_type": "code",
      "metadata": {
        "id": "5bfBNoIKGVYk",
        "colab_type": "code",
        "colab": {}
      },
      "source": [
        "encoder = create_body(models.resnet50, cut=-2)\n",
        "model = RetinaNet(encoder, data.c, final_bias=-4)\n",
        "crit = RetinaNetFocalLoss(scales=scales, ratios=ratios)\n",
        "learn = Learner(data, model, loss_func=crit)"
      ],
      "execution_count": 0,
      "outputs": []
    },
    {
      "cell_type": "markdown",
      "metadata": {
        "id": "AHQGGmvnGVYm",
        "colab_type": "text"
      },
      "source": [
        "Why `final_bias=-4`? That's because we want the network to predict background easily at the beginning (since it's the most common class). At first the final convolution of the classifier is initialized with weights=0 and that bias, so it will return -4 for everyone. If go though a sigmoid "
      ]
    },
    {
      "cell_type": "code",
      "metadata": {
        "id": "SjaY6aUtGVYn",
        "colab_type": "code",
        "colab": {}
      },
      "source": [
        "torch.sigmoid(tensor([-4.]))"
      ],
      "execution_count": 0,
      "outputs": []
    },
    {
      "cell_type": "markdown",
      "metadata": {
        "id": "h0dCvfU1GVYq",
        "colab_type": "text"
      },
      "source": [
        "We see it'll give a corresponding probability of 0.02 roughly. \n",
        "\n",
        "Then, for transfer learning/discriminative LRs, we need to define how to split between body and custom head."
      ]
    },
    {
      "cell_type": "code",
      "metadata": {
        "id": "EdPuxh00GVYr",
        "colab_type": "code",
        "colab": {}
      },
      "source": [
        "def retina_net_split(model):\n",
        "    groups = [list(model.encoder.children())[:6], list(model.encoder.children())[6:]]\n",
        "    return groups + [list(model.children())[1:]]"
      ],
      "execution_count": 0,
      "outputs": []
    },
    {
      "cell_type": "code",
      "metadata": {
        "id": "OmIFPWkIGVYu",
        "colab_type": "code",
        "colab": {}
      },
      "source": [
        "learn = learn.split(retina_net_split)"
      ],
      "execution_count": 0,
      "outputs": []
    },
    {
      "cell_type": "markdown",
      "metadata": {
        "id": "rseA5SztGVYw",
        "colab_type": "text"
      },
      "source": [
        "And now we can train as usual!"
      ]
    },
    {
      "cell_type": "code",
      "metadata": {
        "id": "7CIlW2Y0GVYx",
        "colab_type": "code",
        "colab": {}
      },
      "source": [
        "learn.freeze()"
      ],
      "execution_count": 0,
      "outputs": []
    },
    {
      "cell_type": "code",
      "metadata": {
        "id": "vr1TOXg2GVY0",
        "colab_type": "code",
        "colab": {}
      },
      "source": [
        "learn.lr_find()"
      ],
      "execution_count": 0,
      "outputs": []
    },
    {
      "cell_type": "code",
      "metadata": {
        "id": "N3sk4X0IGVY2",
        "colab_type": "code",
        "colab": {}
      },
      "source": [
        "learn.recorder.plot(skip_end=5)"
      ],
      "execution_count": 0,
      "outputs": []
    },
    {
      "cell_type": "code",
      "metadata": {
        "id": "vSfKCUlTGVY4",
        "colab_type": "code",
        "colab": {}
      },
      "source": [
        "learn.fit_one_cycle(5, 1e-4)"
      ],
      "execution_count": 0,
      "outputs": []
    },
    {
      "cell_type": "code",
      "metadata": {
        "id": "diS1PyESGVY6",
        "colab_type": "code",
        "colab": {}
      },
      "source": [
        "learn.save('stage1-128')"
      ],
      "execution_count": 0,
      "outputs": []
    },
    {
      "cell_type": "code",
      "metadata": {
        "id": "DCEHUJlvGVY8",
        "colab_type": "code",
        "colab": {}
      },
      "source": [
        "learn.unfreeze()"
      ],
      "execution_count": 0,
      "outputs": []
    },
    {
      "cell_type": "code",
      "metadata": {
        "id": "UQUK7ZnmGVY-",
        "colab_type": "code",
        "colab": {}
      },
      "source": [
        "learn.fit_one_cycle(10, slice(1e-6, 5e-5))"
      ],
      "execution_count": 0,
      "outputs": []
    },
    {
      "cell_type": "code",
      "metadata": {
        "id": "4umOQEzsGVY_",
        "colab_type": "code",
        "colab": {}
      },
      "source": [
        "learn.save('stage2-128')"
      ],
      "execution_count": 0,
      "outputs": []
    },
    {
      "cell_type": "code",
      "metadata": {
        "id": "1OSoYaOMGVZB",
        "colab_type": "code",
        "colab": {}
      },
      "source": [
        "learn.data = get_data(32,192)"
      ],
      "execution_count": 0,
      "outputs": []
    },
    {
      "cell_type": "code",
      "metadata": {
        "id": "1X2LHbkvGVZD",
        "colab_type": "code",
        "colab": {}
      },
      "source": [
        "learn.freeze()\n",
        "learn.lr_find()"
      ],
      "execution_count": 0,
      "outputs": []
    },
    {
      "cell_type": "code",
      "metadata": {
        "id": "6Dflr57AGVZE",
        "colab_type": "code",
        "colab": {}
      },
      "source": [
        "learn.recorder.plot()"
      ],
      "execution_count": 0,
      "outputs": []
    },
    {
      "cell_type": "code",
      "metadata": {
        "id": "BZ_u4a-cGVZG",
        "colab_type": "code",
        "colab": {}
      },
      "source": [
        "learn.fit_one_cycle(5, 1e-4)"
      ],
      "execution_count": 0,
      "outputs": []
    },
    {
      "cell_type": "code",
      "metadata": {
        "id": "5Nci3ThhGVZH",
        "colab_type": "code",
        "colab": {}
      },
      "source": [
        "learn.save('stage1-192')"
      ],
      "execution_count": 0,
      "outputs": []
    },
    {
      "cell_type": "code",
      "metadata": {
        "id": "RTe6Er3oGVZI",
        "colab_type": "code",
        "colab": {}
      },
      "source": [
        "learn.unfreeze()"
      ],
      "execution_count": 0,
      "outputs": []
    },
    {
      "cell_type": "code",
      "metadata": {
        "id": "RqDwYGIvGVZJ",
        "colab_type": "code",
        "colab": {}
      },
      "source": [
        "learn.fit_one_cycle(10, slice(1e-6, 5e-5))"
      ],
      "execution_count": 0,
      "outputs": []
    },
    {
      "cell_type": "code",
      "metadata": {
        "id": "_HBCWZKWGVZN",
        "colab_type": "code",
        "colab": {}
      },
      "source": [
        "learn.save('stage2-192')"
      ],
      "execution_count": 0,
      "outputs": []
    },
    {
      "cell_type": "code",
      "metadata": {
        "id": "Yw9c5iNcGVZP",
        "colab_type": "code",
        "colab": {}
      },
      "source": [
        "learn.data = get_data(24,256)"
      ],
      "execution_count": 0,
      "outputs": []
    },
    {
      "cell_type": "code",
      "metadata": {
        "id": "1Pb1jiL0GVZQ",
        "colab_type": "code",
        "colab": {}
      },
      "source": [
        "learn.freeze()\n",
        "learn.fit_one_cycle(5, 1e-4)"
      ],
      "execution_count": 0,
      "outputs": []
    },
    {
      "cell_type": "code",
      "metadata": {
        "id": "m_cD7-wUGVZS",
        "colab_type": "code",
        "colab": {}
      },
      "source": [
        "learn.save('stage1-256')"
      ],
      "execution_count": 0,
      "outputs": []
    },
    {
      "cell_type": "code",
      "metadata": {
        "id": "SImHSdzxGVZT",
        "colab_type": "code",
        "colab": {}
      },
      "source": [
        "learn.unfreeze()\n",
        "learn.fit_one_cycle(10, slice(1e-6, 5e-5))"
      ],
      "execution_count": 0,
      "outputs": []
    },
    {
      "cell_type": "code",
      "metadata": {
        "id": "PztFew4GGVZV",
        "colab_type": "code",
        "colab": {}
      },
      "source": [
        "learn.save('stage2-256')"
      ],
      "execution_count": 0,
      "outputs": []
    },
    {
      "cell_type": "markdown",
      "metadata": {
        "id": "NVGj0r23GVZW",
        "colab_type": "text"
      },
      "source": [
        "## Results"
      ]
    },
    {
      "cell_type": "code",
      "metadata": {
        "id": "2AUexHkWGVZW",
        "colab_type": "code",
        "colab": {}
      },
      "source": [
        "learn = learn.load('stage2-256')"
      ],
      "execution_count": 0,
      "outputs": []
    },
    {
      "cell_type": "code",
      "metadata": {
        "id": "fuKvRHNXGVZY",
        "colab_type": "code",
        "colab": {}
      },
      "source": [
        "img,target = next(iter(data.valid_dl))\n",
        "with torch.no_grad():\n",
        "    output = learn.model(img)"
      ],
      "execution_count": 0,
      "outputs": []
    },
    {
      "cell_type": "markdown",
      "metadata": {
        "id": "JzmrXaXLGVZa",
        "colab_type": "text"
      },
      "source": [
        "First we need to remove the padding that was added to collate our targets together."
      ]
    },
    {
      "cell_type": "code",
      "metadata": {
        "id": "QalM0DueGVZa",
        "colab_type": "code",
        "colab": {}
      },
      "source": [
        "def unpad(tgt_bbox, tgt_clas, pad_idx=0):\n",
        "    i = torch.min(torch.nonzero(tgt_clas-pad_idx))\n",
        "    return tlbr2cthw(tgt_bbox[i:]), tgt_clas[i:]-1+pad_idx"
      ],
      "execution_count": 0,
      "outputs": []
    },
    {
      "cell_type": "markdown",
      "metadata": {
        "id": "UgWMUU2dGVZf",
        "colab_type": "text"
      },
      "source": [
        "Then we process the outputs of the model: we convert the activations of the regressor to bounding boxes and the predictions to probabilities, only keeping those above a given threshold."
      ]
    },
    {
      "cell_type": "code",
      "metadata": {
        "id": "5xDmq0CBGVZg",
        "colab_type": "code",
        "colab": {}
      },
      "source": [
        "def process_output(output, i, detect_thresh=0.25):\n",
        "    \"Process `output[i]` and return the predicted bboxes above `detect_thresh`.\"\n",
        "    clas_pred,bbox_pred,sizes = output[0][i], output[1][i], output[2]\n",
        "    anchors = create_anchors(sizes, ratios, scales).to(clas_pred.device)\n",
        "    bbox_pred = activ_to_bbox(bbox_pred, anchors)\n",
        "    clas_pred = torch.sigmoid(clas_pred)\n",
        "    detect_mask = clas_pred.max(1)[0] > detect_thresh\n",
        "    bbox_pred, clas_pred = bbox_pred[detect_mask], clas_pred[detect_mask]\n",
        "    bbox_pred = tlbr2cthw(torch.clamp(cthw2tlbr(bbox_pred), min=-1, max=1))    \n",
        "    scores, preds = clas_pred.max(1)\n",
        "    return bbox_pred, scores, preds"
      ],
      "execution_count": 0,
      "outputs": []
    },
    {
      "cell_type": "markdown",
      "metadata": {
        "id": "GSNN3Ib2GVZk",
        "colab_type": "text"
      },
      "source": [
        "Helper functions to plot the results"
      ]
    },
    {
      "cell_type": "code",
      "metadata": {
        "id": "e8-HKNMAGVZk",
        "colab_type": "code",
        "colab": {}
      },
      "source": [
        "def _draw_outline(o:Patch, lw:int):\n",
        "    \"Outline bounding box onto image `Patch`.\"\n",
        "    o.set_path_effects([patheffects.Stroke(\n",
        "        linewidth=lw, foreground='black'), patheffects.Normal()])\n",
        "\n",
        "def draw_rect(ax:plt.Axes, b:Collection[int], color:str='white', text=None, text_size=14):\n",
        "    \"Draw bounding box on `ax`.\"\n",
        "    patch = ax.add_patch(patches.Rectangle(b[:2], *b[-2:], fill=False, edgecolor=color, lw=2))\n",
        "    _draw_outline(patch, 4)\n",
        "    if text is not None:\n",
        "        patch = ax.text(*b[:2], text, verticalalignment='top', color=color, fontsize=text_size, weight='bold')\n",
        "        _draw_outline(patch,1)"
      ],
      "execution_count": 0,
      "outputs": []
    },
    {
      "cell_type": "code",
      "metadata": {
        "id": "e3aQls7WGVZl",
        "colab_type": "code",
        "colab": {}
      },
      "source": [
        "def show_preds(img, output, idx, detect_thresh=0.25, classes=None):\n",
        "    bbox_pred, scores, preds = process_output(output, idx, detect_thresh)\n",
        "    bbox_pred, preds, scores = bbox_pred.cpu(), preds.cpu(), scores.cpu()\n",
        "    t_sz = torch.Tensor([*img.size])[None].float()\n",
        "    bbox_pred[:,:2] = bbox_pred[:,:2] - bbox_pred[:,2:]/2\n",
        "    bbox_pred[:,:2] = (bbox_pred[:,:2] + 1) * t_sz/2\n",
        "    bbox_pred[:,2:] = bbox_pred[:,2:] * t_sz\n",
        "    bbox_pred = bbox_pred.long()\n",
        "    _, ax = plt.subplots(1,1)\n",
        "    for bbox, c, scr in zip(bbox_pred, preds, scores):\n",
        "        img.show(ax=ax)\n",
        "        txt = str(c.item()) if classes is None else classes[c.item()+1]\n",
        "        draw_rect(ax, [bbox[1],bbox[0],bbox[3],bbox[2]], text=f'{txt} {scr:.2f}')"
      ],
      "execution_count": 0,
      "outputs": []
    },
    {
      "cell_type": "markdown",
      "metadata": {
        "id": "XmpBB2ZNGVZn",
        "colab_type": "text"
      },
      "source": [
        "And let's have a look at one picture."
      ]
    },
    {
      "cell_type": "code",
      "metadata": {
        "id": "3wcAMeMGGVZn",
        "colab_type": "code",
        "colab": {}
      },
      "source": [
        "idx = 0\n",
        "img = data.valid_ds[idx][0]\n",
        "show_preds(img, output, idx, detect_thresh=0.3, classes=data.classes)"
      ],
      "execution_count": 0,
      "outputs": []
    },
    {
      "cell_type": "markdown",
      "metadata": {
        "id": "dyy3qnwBGVZp",
        "colab_type": "text"
      },
      "source": [
        "It looks like a lot of our anchors are detecting kind of the same object. We use an algorithm called Non-Maximum Suppression to remove near-duplicates: going from the biggest score predicted to the lowest, we take the corresponding bounding boxes and remove all the bounding boxes down the list that have an IoU > 0.5 with this one. We continue the process until we have reached the end of the list."
      ]
    },
    {
      "cell_type": "code",
      "metadata": {
        "id": "NDA_0uzDGVZp",
        "colab_type": "code",
        "colab": {}
      },
      "source": [
        "def nms(boxes, scores, thresh=0.3):\n",
        "    idx_sort = scores.argsort(descending=True)\n",
        "    boxes, scores = boxes[idx_sort], scores[idx_sort]\n",
        "    to_keep, indexes = [], torch.LongTensor(range_of(scores))\n",
        "    while len(scores) > 0:\n",
        "        to_keep.append(idx_sort[indexes[0]])\n",
        "        iou_vals = IoU_values(boxes, boxes[:1]).squeeze()\n",
        "        mask_keep = iou_vals < thresh\n",
        "        if len(mask_keep.nonzero()) == 0: break\n",
        "        boxes, scores, indexes = boxes[mask_keep], scores[mask_keep], indexes[mask_keep]\n",
        "    return LongTensor(to_keep)"
      ],
      "execution_count": 0,
      "outputs": []
    },
    {
      "cell_type": "code",
      "metadata": {
        "id": "ZFBSvGZ8GVZq",
        "colab_type": "code",
        "colab": {}
      },
      "source": [
        "def process_output(output, i, detect_thresh=0.25):\n",
        "    clas_pred,bbox_pred,sizes = output[0][i], output[1][i], output[2]\n",
        "    anchors = create_anchors(sizes, ratios, scales).to(clas_pred.device)\n",
        "    bbox_pred = activ_to_bbox(bbox_pred, anchors)\n",
        "    clas_pred = torch.sigmoid(clas_pred)\n",
        "    detect_mask = clas_pred.max(1)[0] > detect_thresh\n",
        "    bbox_pred, clas_pred = bbox_pred[detect_mask], clas_pred[detect_mask]\n",
        "    bbox_pred = tlbr2cthw(torch.clamp(cthw2tlbr(bbox_pred), min=-1, max=1))    \n",
        "    if clas_pred.numel() == 0: return [],[],[]\n",
        "    scores, preds = clas_pred.max(1)\n",
        "    return bbox_pred, scores, preds"
      ],
      "execution_count": 0,
      "outputs": []
    },
    {
      "cell_type": "code",
      "metadata": {
        "id": "mj3uJMBKGVZr",
        "colab_type": "code",
        "colab": {}
      },
      "source": [
        "def show_preds(img, output, idx, detect_thresh=0.25, classes=None, ax=None):\n",
        "    bbox_pred, scores, preds = process_output(output, idx, detect_thresh)\n",
        "    if len(scores) != 0:\n",
        "        to_keep = nms(bbox_pred, scores)\n",
        "        bbox_pred, preds, scores = bbox_pred[to_keep].cpu(), preds[to_keep].cpu(), scores[to_keep].cpu()\n",
        "        t_sz = torch.Tensor([*img.size])[None].float()\n",
        "        bbox_pred[:,:2] = bbox_pred[:,:2] - bbox_pred[:,2:]/2\n",
        "        bbox_pred[:,:2] = (bbox_pred[:,:2] + 1) * t_sz/2\n",
        "        bbox_pred[:,2:] = bbox_pred[:,2:] * t_sz\n",
        "        bbox_pred = bbox_pred.long()\n",
        "    if ax is None: _, ax = plt.subplots(1,1)\n",
        "    img.show(ax=ax)\n",
        "    for bbox, c, scr in zip(bbox_pred, preds, scores):\n",
        "        txt = str(c.item()) if classes is None else classes[c.item()+1]\n",
        "        draw_rect(ax, [bbox[1],bbox[0],bbox[3],bbox[2]], text=f'{txt} {scr:.2f}')"
      ],
      "execution_count": 0,
      "outputs": []
    },
    {
      "cell_type": "code",
      "metadata": {
        "id": "SrYxsoAyGVZs",
        "colab_type": "code",
        "colab": {}
      },
      "source": [
        "def show_results(learn, start=0, n=5, detect_thresh=0.35, figsize=(10,25)):\n",
        "    x,y = learn.data.one_batch(DatasetType.Valid, cpu=False)\n",
        "    with torch.no_grad():\n",
        "        z = learn.model.eval()(x)\n",
        "    _,axs = plt.subplots(n, 2, figsize=figsize)\n",
        "    for i in range(n):\n",
        "        img,bbox = learn.data.valid_ds[start+i]\n",
        "        img.show(ax=axs[i,0], y=bbox)\n",
        "        show_preds(img, z, start+i, detect_thresh=detect_thresh, classes=learn.data.classes, ax=axs[i,1])"
      ],
      "execution_count": 0,
      "outputs": []
    },
    {
      "cell_type": "code",
      "metadata": {
        "id": "DLKP2WYIGVZu",
        "colab_type": "code",
        "colab": {}
      },
      "source": [
        "learn = learn.load('stage2-256')"
      ],
      "execution_count": 0,
      "outputs": []
    },
    {
      "cell_type": "code",
      "metadata": {
        "id": "-gUBudukGVZv",
        "colab_type": "code",
        "colab": {}
      },
      "source": [
        "show_results(learn, start=10)"
      ],
      "execution_count": 0,
      "outputs": []
    },
    {
      "cell_type": "markdown",
      "metadata": {
        "id": "jFc-R8sJGVZw",
        "colab_type": "text"
      },
      "source": [
        "## mAP"
      ]
    },
    {
      "cell_type": "markdown",
      "metadata": {
        "id": "j-exl91yGVZw",
        "colab_type": "text"
      },
      "source": [
        "A metric often used for this kind of task is the mean Average Precision (our mAP). It relies on computing the cumulated precision and recall for each class, then tries to compute the area under the precision/recall curve we can draw."
      ]
    },
    {
      "cell_type": "code",
      "metadata": {
        "id": "I0fFRvmZGVZw",
        "colab_type": "code",
        "colab": {}
      },
      "source": [
        "def get_predictions(output, idx, detect_thresh=0.05):\n",
        "    bbox_pred, scores, preds = process_output(output, idx, detect_thresh)\n",
        "    if len(scores) == 0: return [],[],[]\n",
        "    to_keep = nms(bbox_pred, scores)\n",
        "    return bbox_pred[to_keep], preds[to_keep], scores[to_keep]"
      ],
      "execution_count": 0,
      "outputs": []
    },
    {
      "cell_type": "code",
      "metadata": {
        "id": "bJ4rm4KNGVZy",
        "colab_type": "code",
        "colab": {}
      },
      "source": [
        "def compute_ap(precision, recall):\n",
        "    \"Compute the average precision for `precision` and `recall` curve.\"\n",
        "    recall = np.concatenate(([0.], list(recall), [1.]))\n",
        "    precision = np.concatenate(([0.], list(precision), [0.]))\n",
        "    for i in range(len(precision) - 1, 0, -1):\n",
        "        precision[i - 1] = np.maximum(precision[i - 1], precision[i])\n",
        "    idx = np.where(recall[1:] != recall[:-1])[0]\n",
        "    ap = np.sum((recall[idx + 1] - recall[idx]) * precision[idx + 1])\n",
        "    return ap"
      ],
      "execution_count": 0,
      "outputs": []
    },
    {
      "cell_type": "code",
      "metadata": {
        "id": "YXrwDPwmGVZ0",
        "colab_type": "code",
        "colab": {}
      },
      "source": [
        "def compute_class_AP(model, dl, n_classes, iou_thresh=0.5, detect_thresh=0.35, num_keep=100):\n",
        "    tps, clas, p_scores = [], [], []\n",
        "    classes, n_gts = LongTensor(range(n_classes)),torch.zeros(n_classes).long()\n",
        "    with torch.no_grad():\n",
        "        for input,target in progress_bar(dl):\n",
        "            output = model(input)\n",
        "            for i in range(target[0].size(0)):\n",
        "                bbox_pred, preds, scores = get_predictions(output, i, detect_thresh)\n",
        "                tgt_bbox, tgt_clas = unpad(target[0][i], target[1][i])\n",
        "                if len(bbox_pred) != 0 and len(tgt_bbox) != 0:\n",
        "                    ious = IoU_values(bbox_pred, tgt_bbox)\n",
        "                    max_iou, matches = ious.max(1)\n",
        "                    detected = []\n",
        "                    for i in range_of(preds):\n",
        "                        if max_iou[i] >= iou_thresh and matches[i] not in detected and tgt_clas[matches[i]] == preds[i]:\n",
        "                            detected.append(matches[i])\n",
        "                            tps.append(1)\n",
        "                        else: tps.append(0)\n",
        "                    clas.append(preds.cpu())\n",
        "                    p_scores.append(scores.cpu())\n",
        "                n_gts += (tgt_clas.cpu()[:,None] == classes[None,:]).sum(0)\n",
        "    tps, p_scores, clas = torch.tensor(tps), torch.cat(p_scores,0), torch.cat(clas,0)\n",
        "    fps = 1-tps\n",
        "    idx = p_scores.argsort(descending=True)\n",
        "    tps, fps, clas = tps[idx], fps[idx], clas[idx]\n",
        "    aps = []\n",
        "    #return tps, clas\n",
        "    for cls in range(n_classes):\n",
        "        tps_cls, fps_cls = tps[clas==cls].float().cumsum(0), fps[clas==cls].float().cumsum(0)\n",
        "        if tps_cls.numel() != 0 and tps_cls[-1] != 0:\n",
        "            precision = tps_cls / (tps_cls + fps_cls + 1e-8)\n",
        "            recall = tps_cls / (n_gts[cls] + 1e-8)\n",
        "            aps.append(compute_ap(precision, recall))\n",
        "        else: aps.append(0.)\n",
        "    return aps"
      ],
      "execution_count": 0,
      "outputs": []
    },
    {
      "cell_type": "code",
      "metadata": {
        "id": "MzuryIy0GVZ1",
        "colab_type": "code",
        "colab": {}
      },
      "source": [
        "L = compute_class_AP(learn.model, data.valid_dl, data.c-1)"
      ],
      "execution_count": 0,
      "outputs": []
    },
    {
      "cell_type": "code",
      "metadata": {
        "id": "24jde8pzGVZ3",
        "colab_type": "code",
        "colab": {}
      },
      "source": [
        "for ap,cl in zip(L, data.classes[1:]): print(f'{cl}: {ap:.6f}')"
      ],
      "execution_count": 0,
      "outputs": []
    },
    {
      "cell_type": "code",
      "metadata": {
        "id": "kMnvvtDCGVZ5",
        "colab_type": "code",
        "colab": {}
      },
      "source": [
        "for ap,cl in zip(L, data.classes[1:]): print(f'{cl}: {ap:.6f}')"
      ],
      "execution_count": 0,
      "outputs": []
    },
    {
      "cell_type": "code",
      "metadata": {
        "id": "vsuhikzwGVZ6",
        "colab_type": "code",
        "colab": {}
      },
      "source": [
        "for ap,cl in zip(L, data.classes[1:]): print(f'{cl}: {ap:.6f}')"
      ],
      "execution_count": 0,
      "outputs": []
    },
    {
      "cell_type": "code",
      "metadata": {
        "id": "sULLc-xyGVZ7",
        "colab_type": "code",
        "colab": {}
      },
      "source": [
        "for ap,cl in zip(L, data.classes[1:]): print(f'{cl}: {ap:.6f}')"
      ],
      "execution_count": 0,
      "outputs": []
    },
    {
      "cell_type": "code",
      "metadata": {
        "id": "E4_SJ7igGVZ8",
        "colab_type": "code",
        "colab": {}
      },
      "source": [
        "for ap,cl in zip(L, data.classes[1:]): print(f'{cl}: {ap:.6f}')"
      ],
      "execution_count": 0,
      "outputs": []
    },
    {
      "cell_type": "code",
      "metadata": {
        "id": "AZSBXgIZGVZ9",
        "colab_type": "code",
        "colab": {}
      },
      "source": [
        ""
      ],
      "execution_count": 0,
      "outputs": []
    }
  ]
}